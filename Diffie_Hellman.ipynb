{
  "nbformat": 4,
  "nbformat_minor": 0,
  "metadata": {
    "colab": {
      "provenance": [],
      "authorship_tag": "ABX9TyM/+iZs2DB82CMUGtZFm8m+",
      "include_colab_link": true
    },
    "kernelspec": {
      "name": "python3",
      "display_name": "Python 3"
    },
    "language_info": {
      "name": "python"
    }
  },
  "cells": [
    {
      "cell_type": "markdown",
      "metadata": {
        "id": "view-in-github",
        "colab_type": "text"
      },
      "source": [
        "<a href=\"https://colab.research.google.com/github/Ishita-5/Cyber-security-Assignment-/blob/main/Diffie_Hellman.ipynb\" target=\"_parent\"><img src=\"https://colab.research.google.com/assets/colab-badge.svg\" alt=\"Open In Colab\"/></a>"
      ]
    },
    {
      "cell_type": "code",
      "execution_count": 1,
      "metadata": {
        "colab": {
          "base_uri": "https://localhost:8080/"
        },
        "id": "AMpsvSCxmWso",
        "outputId": "50aa4097-cd52-4a05-b443-c575cd0c5b91"
      },
      "outputs": [
        {
          "output_type": "stream",
          "name": "stdout",
          "text": [
            "Enter first public key number:43\n",
            "Enter second public key number:22\n",
            "Enter private key for Person 1: 5\n",
            "Enter private key for Person 2: 7\n",
            "Enter the key to be exchanged: 8765\n",
            "Encrypted Key for Person 1: 6\n",
            "Encrypted Key for Person 2: 36\n",
            "Shared Secret for Person 1: 6\n",
            "Shared Secret for Person 2: 6\n"
          ]
        }
      ],
      "source": [
        "import math\n",
        "\n",
        "P = int(input(\"Enter first public key number:\"))\n",
        "Q = int(input(\"Enter second public key number:\"))\n",
        "\n",
        "ApKey = int(input(\"Enter private key for Person 1: \"))\n",
        "BpKey = int(input(\"Enter private key for Person 2: \"))\n",
        "\n",
        "Key = int(input(\"Enter the key to be exchanged: \"))\n",
        "\n",
        "A = pow(Key, ApKey, P);\n",
        "B = pow(Key, BpKey, P);\n",
        "\n",
        "print(\"Encrypted Key for Person 1:\", A)\n",
        "print(\"Encrypted Key for Person 2:\", B)\n",
        "\n",
        "S_A = pow(B, ApKey, P)\n",
        "S_B = pow(A, BpKey, P)\n",
        "\n",
        "print(\"Shared Secret for Person 1:\", S_A)\n",
        "print(\"Shared Secret for Person 2:\", S_B)\n"
      ]
    }
  ]
}